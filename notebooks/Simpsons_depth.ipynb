{
 "cells": [
  {
   "cell_type": "code",
   "execution_count": 48,
   "metadata": {},
   "outputs": [],
   "source": [
    "import pandas as pd\n",
    "import torchvision\n",
    "import os\n",
    "import torch\n",
    "import torch.nn as nn\n",
    "import torch.optim as optim\n",
    "from torch.utils.data import Dataset, DataLoader\n",
    "from PIL import Image"
   ]
  },
  {
   "cell_type": "code",
   "execution_count": 57,
   "metadata": {},
   "outputs": [],
   "source": [
    "class Simpsons(Dataset):\n",
    "  def __init__(self, data_root, transform=torchvision.transforms.ToTensor(),):\n",
    "    self.samples = {}\n",
    "    self.transform = transform\n",
    "    for file in os.listdir(data_root):\n",
    "      subfolder_list = [ os.path.join( data_root, file , subfolder ) for subfolder in os.listdir(os.path.join(data_root, file))]\n",
    "      self.samples[file] = subfolder_list\n",
    "\n",
    "    keys = [ key for key in self.samples.keys()]\n",
    "    print(f'{len(keys)} classes found: {keys}')\n",
    "    self.RGB_DIRS   = self.samples[keys[0]]\n",
    "    self.DEPTH_DIRS = self.samples[keys[1]]\n",
    "\n",
    "    self.length = int(sum([len(self.samples[key]) for key in self.samples.keys()])*0.5)\n",
    "\n",
    "  def __len__(self):\n",
    "    return self.length\n",
    "\n",
    "  def __getitem__(self, index):\n",
    "    RGB_IMAGES   = Image.open(self.RGB_DIRS[index])\n",
    "    DEPTH_IMAGES = Image.open(self.DEPTH_DIRS[index])\n",
    "\n",
    "    if self.transform:\n",
    "      RGB_IMAGES   = self.transform(RGB_IMAGES)\n",
    "      DEPTH_IMAGES = self.transform(DEPTH_IMAGES)    \n",
    "      \n",
    "    return DEPTH_IMAGES, RGB_IMAGES"
   ]
  },
  {
   "cell_type": "code",
   "execution_count": 62,
   "metadata": {},
   "outputs": [
    {
     "name": "stdout",
     "output_type": "stream",
     "text": [
      "2 classes found: ['depth', 'rgb']\n"
     ]
    },
    {
     "data": {
      "text/plain": [
       "<__main__.Simpsons at 0x1929301fac8>"
      ]
     },
     "execution_count": 62,
     "metadata": {},
     "output_type": "execute_result"
    }
   ],
   "source": [
    "path = '../data/'\n",
    "Simpsons(path)"
   ]
  },
  {
   "cell_type": "code",
   "execution_count": null,
   "metadata": {},
   "outputs": [],
   "source": []
  }
 ],
 "metadata": {
  "kernelspec": {
   "display_name": "Python 3.7.12 ('tf1')",
   "language": "python",
   "name": "python3"
  },
  "language_info": {
   "codemirror_mode": {
    "name": "ipython",
    "version": 3
   },
   "file_extension": ".py",
   "mimetype": "text/x-python",
   "name": "python",
   "nbconvert_exporter": "python",
   "pygments_lexer": "ipython3",
   "version": "3.7.12"
  },
  "orig_nbformat": 4,
  "vscode": {
   "interpreter": {
    "hash": "48324878fd09c2ff1755460c6bedcd7035239e95f1ec0df88470a6ba78f59e5a"
   }
  }
 },
 "nbformat": 4,
 "nbformat_minor": 2
}
